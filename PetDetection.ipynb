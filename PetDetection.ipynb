{
 "cells": [
  {
   "cell_type": "markdown",
   "metadata": {},
   "source": [
    "import tensorflow.keras as tfk\n",
    "import tensorflow as tf\n",
    "import numpy as np\n",
    "import cv2 as cv\n",
    "import tensorflow.keras.backend as K"
   ]
  },
  {
   "cell_type": "code",
   "execution_count": 1,
   "metadata": {},
   "outputs": [
    {
     "name": "stderr",
     "output_type": "stream",
     "text": [
      "Using TensorFlow backend.\n"
     ]
    }
   ],
   "source": [
    "import keras as tfk\n",
    "import keras.backend as K\n",
    "import tensorflow as tf\n",
    "import cv2 as cv\n",
    "import matplotlib.pyplot as plt\n",
    "import os\n",
    "import numpy as np\n",
    "from sklearn.model_selection import train_test_split\n",
    "import seaborn as sns\n",
    "import sklearn as sk"
   ]
  },
  {
   "cell_type": "markdown",
   "metadata": {},
   "source": [
    "## Creación del modelo"
   ]
  },
  {
   "cell_type": "code",
   "execution_count": 2,
   "metadata": {},
   "outputs": [
    {
     "name": "stdout",
     "output_type": "stream",
     "text": [
      "GPU Available:  True\n"
     ]
    }
   ],
   "source": [
    "print(\"GPU Available: \", tf.test.is_gpu_available())"
   ]
  },
  {
   "cell_type": "code",
   "execution_count": 3,
   "metadata": {},
   "outputs": [
    {
     "name": "stdout",
     "output_type": "stream",
     "text": [
      "1 Physical GPUs, 1 Logical GPUs\n"
     ]
    }
   ],
   "source": [
    "gpus = tf.config.experimental.list_physical_devices('GPU')\n",
    "if gpus:\n",
    "  # Restrict TensorFlow to only allocate 1GB of memory on the first GPU\n",
    "    try:\n",
    "        tf.config.experimental.set_virtual_device_configuration(\n",
    "            gpus[0],\n",
    "            [tf.config.experimental.VirtualDeviceConfiguration(memory_limit=1024)])\n",
    "        logical_gpus = tf.config.experimental.list_logical_devices('GPU')\n",
    "        print(len(gpus), \"Physical GPUs,\", len(logical_gpus), \"Logical GPUs\")\n",
    "    except RuntimeError as e:\n",
    "    # Virtual devices must be set before GPUs have been initialized\n",
    "        print(e)"
   ]
  },
  {
   "cell_type": "code",
   "execution_count": 4,
   "metadata": {},
   "outputs": [],
   "source": [
    "model = tfk.models.Sequential([tfk.layers.Conv2D(64,(3,3),input_shape=(150,150,3)),\n",
    "                              tfk.layers.MaxPooling2D(),\n",
    "                              tfk.layers.Conv2D(32,(3,3)),\n",
    "                              tfk.layers.MaxPooling2D(),\n",
    "                              tfk.layers.Conv2D(16,(3,3)),\n",
    "                              tfk.layers.MaxPooling2D(),\n",
    "                              tfk.layers.Conv2D(8,(3,3)),\n",
    "                              tfk.layers.MaxPooling2D(),\n",
    "                              tfk.layers.Conv2D(4,(3,3)),\n",
    "                              tfk.layers.MaxPooling2D()])"
   ]
  },
  {
   "cell_type": "code",
   "execution_count": 5,
   "metadata": {},
   "outputs": [],
   "source": [
    "post_model = tfk.models.Sequential([model,\n",
    "                                    tfk.layers.Flatten(),\n",
    "                                   tfk.layers.Dense(128,activation='relu'),\n",
    "                                   tfk.layers.Dropout(0.2),\n",
    "                                   tfk.layers.Dense(64,activation='relu'),\n",
    "                                  tfk.layers.Dropout(0.2),\n",
    "                                   tfk.layers.Dense(32,activation='relu')])"
   ]
  },
  {
   "cell_type": "code",
   "execution_count": 6,
   "metadata": {},
   "outputs": [],
   "source": [
    "def euclidian_distance(vects):\n",
    "    x,y = vects\n",
    "    return K.sqrt(K.sum(K.square(x-y),axis=1,keepdims=True))"
   ]
  },
  {
   "cell_type": "code",
   "execution_count": 7,
   "metadata": {},
   "outputs": [],
   "source": [
    "def ed_output_shape(shapes):\n",
    "    shape1,shape2 = shapes\n",
    "    return (shape1[0],1)"
   ]
  },
  {
   "cell_type": "code",
   "execution_count": 8,
   "metadata": {},
   "outputs": [],
   "source": [
    "distance = tfk.layers.Lambda(euclidian_distance,output_shape=ed_output_shape)"
   ]
  },
  {
   "cell_type": "code",
   "execution_count": 9,
   "metadata": {},
   "outputs": [],
   "source": [
    "img_a = tfk.layers.Input(shape=(150,150,3))\n",
    "\n",
    "img_b = tfk.layers.Input(shape=(150,150,3))"
   ]
  },
  {
   "cell_type": "code",
   "execution_count": 10,
   "metadata": {},
   "outputs": [],
   "source": [
    "feat_vecs_a = post_model(img_a)"
   ]
  },
  {
   "cell_type": "code",
   "execution_count": 11,
   "metadata": {},
   "outputs": [],
   "source": [
    "feat_vecs_b = post_model(img_b)"
   ]
  },
  {
   "cell_type": "code",
   "execution_count": 12,
   "metadata": {},
   "outputs": [],
   "source": [
    "distance = distance([feat_vecs_a,feat_vecs_b])"
   ]
  },
  {
   "cell_type": "code",
   "execution_count": 13,
   "metadata": {},
   "outputs": [
    {
     "name": "stderr",
     "output_type": "stream",
     "text": [
      "d:\\programas\\anaconda3\\envs\\tf2\\lib\\site-packages\\ipykernel_launcher.py:1: UserWarning: Update your `Model` call to the Keras 2 API: `Model(inputs=[<tf.Tenso..., outputs=Tensor(\"la...)`\n",
      "  \"\"\"Entry point for launching an IPython kernel.\n"
     ]
    }
   ],
   "source": [
    "full_model = tfk.models.Model(inputs=[img_a,img_b],output=distance)"
   ]
  },
  {
   "cell_type": "code",
   "execution_count": 14,
   "metadata": {},
   "outputs": [
    {
     "name": "stdout",
     "output_type": "stream",
     "text": [
      "Model: \"model_1\"\n",
      "__________________________________________________________________________________________________\n",
      "Layer (type)                    Output Shape         Param #     Connected to                     \n",
      "==================================================================================================\n",
      "input_1 (InputLayer)            (None, 150, 150, 3)  0                                            \n",
      "__________________________________________________________________________________________________\n",
      "input_2 (InputLayer)            (None, 150, 150, 3)  0                                            \n",
      "__________________________________________________________________________________________________\n",
      "sequential_2 (Sequential)       (None, 32)           38844       input_1[0][0]                    \n",
      "                                                                 input_2[0][0]                    \n",
      "__________________________________________________________________________________________________\n",
      "lambda_1 (Lambda)               (None, 1)            0           sequential_2[1][0]               \n",
      "                                                                 sequential_2[2][0]               \n",
      "==================================================================================================\n",
      "Total params: 38,844\n",
      "Trainable params: 38,844\n",
      "Non-trainable params: 0\n",
      "__________________________________________________________________________________________________\n"
     ]
    }
   ],
   "source": [
    "full_model.summary()"
   ]
  },
  {
   "cell_type": "code",
   "execution_count": 15,
   "metadata": {},
   "outputs": [],
   "source": [
    "def contrastive_loss(y_true, y_pred):\n",
    "    margin = 1\n",
    "    return K.mean(y_true * K.square(y_pred) + (1 - y_true) * K.square(K.maximum(margin - y_pred, 0)))"
   ]
  },
  {
   "cell_type": "code",
   "execution_count": 16,
   "metadata": {},
   "outputs": [],
   "source": [
    "full_model.compile(loss=contrastive_loss,optimizer=tfk.optimizers.rmsprop())"
   ]
  },
  {
   "cell_type": "markdown",
   "metadata": {},
   "source": [
    "________"
   ]
  },
  {
   "cell_type": "markdown",
   "metadata": {},
   "source": [
    "## Generación de Datasets"
   ]
  },
  {
   "cell_type": "code",
   "execution_count": 17,
   "metadata": {},
   "outputs": [],
   "source": [
    "def build_path(base_path,it1,it2):\n",
    "    return f'{base_path}p{it1}/{it2}.jpg'"
   ]
  },
  {
   "cell_type": "code",
   "execution_count": 18,
   "metadata": {},
   "outputs": [],
   "source": [
    "def read_image(path):\n",
    "    return cv.imread(path)"
   ]
  },
  {
   "cell_type": "code",
   "execution_count": 19,
   "metadata": {},
   "outputs": [],
   "source": [
    "def preprocess_image(image):\n",
    "    cc_im1=cv.resize(image,(150,150))\n",
    "    cc_im1 = np.reshape(cc_im1,(150,150,3))\n",
    "    return cc_im1/255"
   ]
  },
  {
   "cell_type": "code",
   "execution_count": 20,
   "metadata": {},
   "outputs": [],
   "source": [
    "def generate_dataset():\n",
    "    base_path = \"./images/Cats/\"\n",
    "    total_samples_per_state = 1000\n",
    "    tspe = total_samples_per_state\n",
    "    x_positive = np.zeros([tspe, 2,150, 150,3])\n",
    "    y_positive = np.zeros([tspe, 1])\n",
    "    \n",
    "    count = 0\n",
    "    for i in range(12):\n",
    "        for _ in range(tspe//12):\n",
    "            s1,s2 = 0,0\n",
    "            while s1==s2:\n",
    "                s1,s2 = np.random.randint(160),np.random.randint(160)\n",
    "            x1 = preprocess_image(read_image(build_path(base_path,i+1,s1+1)))\n",
    "            x2 = preprocess_image(read_image(build_path(base_path,i+1,s2+1)))\n",
    "            x_positive[count,0,...] = x1\n",
    "            x_positive[count,1,...] = x2\n",
    "            y_positive[count,0] = 1\n",
    "            count +=1\n",
    "            \n",
    "            \n",
    "    x_negative = np.zeros([tspe, 2,150, 150,3])\n",
    "    y_negative = np.zeros([tspe, 1])\n",
    "    count=0\n",
    "    for i in range(12):\n",
    "        for _ in range(tspe//12):\n",
    "            s1,s2 = i,0\n",
    "            while s1 == i:\n",
    "                s1,s2,s3 = np.random.randint(12),np.random.randint(160),np.random.randint(160)\n",
    "            x1 = preprocess_image(read_image(build_path(base_path,i+1,s2+1)))\n",
    "            x2 = preprocess_image(read_image(build_path(base_path,s1+1,s3+1)))\n",
    "            x_negative[count,0,...] = x1\n",
    "            x_negative[count,1,...] = x2\n",
    "            y_negative[count,0] = 0\n",
    "            count+=1\n",
    "    total_x = np.concatenate([x_positive,x_negative],axis=0)\n",
    "    total_y = np.concatenate([y_positive,y_negative],axis=0)\n",
    "    \n",
    "    return total_x,total_y"
   ]
  },
  {
   "cell_type": "code",
   "execution_count": 21,
   "metadata": {},
   "outputs": [],
   "source": [
    "x,y=generate_dataset()"
   ]
  },
  {
   "cell_type": "code",
   "execution_count": 22,
   "metadata": {},
   "outputs": [],
   "source": [
    "x_train, x_test, y_train, y_test = train_test_split(x, y, test_size=.25)"
   ]
  },
  {
   "cell_type": "code",
   "execution_count": 23,
   "metadata": {},
   "outputs": [],
   "source": [
    "del(x)"
   ]
  },
  {
   "cell_type": "code",
   "execution_count": 24,
   "metadata": {},
   "outputs": [],
   "source": [
    "del(y)"
   ]
  },
  {
   "cell_type": "code",
   "execution_count": 25,
   "metadata": {},
   "outputs": [],
   "source": [
    "img_1 = x_train[:, 0]\n",
    "img_2 = x_train[:, 1]"
   ]
  },
  {
   "cell_type": "code",
   "execution_count": 26,
   "metadata": {},
   "outputs": [],
   "source": [
    "del(x_train)"
   ]
  },
  {
   "cell_type": "markdown",
   "metadata": {},
   "source": [
    "full_model.load_weights('Cat_N-O_Limit.ckpt')"
   ]
  },
  {
   "cell_type": "code",
   "execution_count": 31,
   "metadata": {},
   "outputs": [
    {
     "name": "stdout",
     "output_type": "stream",
     "text": [
      "Train on 1500 samples, validate on 500 samples\n",
      "Epoch 1/30\n",
      " - 8s - loss: 0.1443 - val_loss: 0.2941\n",
      "Epoch 2/30\n",
      " - 8s - loss: 0.1311 - val_loss: 0.2860\n",
      "Epoch 3/30\n",
      " - 8s - loss: 0.1310 - val_loss: 0.2897\n",
      "Epoch 4/30\n",
      " - 8s - loss: 0.1300 - val_loss: 0.2891\n",
      "Epoch 5/30\n",
      " - 8s - loss: 0.1230 - val_loss: 0.2851\n",
      "Epoch 6/30\n",
      " - 8s - loss: 0.1211 - val_loss: 0.3046\n",
      "Epoch 7/30\n",
      " - 8s - loss: 0.1170 - val_loss: 0.2999\n",
      "Epoch 8/30\n",
      " - 8s - loss: 0.1121 - val_loss: 0.3204\n",
      "Epoch 9/30\n",
      " - 8s - loss: 0.1102 - val_loss: 0.3166\n",
      "Epoch 10/30\n",
      " - 8s - loss: 0.1087 - val_loss: 0.3288\n",
      "Epoch 11/30\n",
      " - 8s - loss: 0.1042 - val_loss: 0.3304\n",
      "Epoch 12/30\n",
      " - 8s - loss: 0.1084 - val_loss: 0.3119\n",
      "Epoch 13/30\n",
      " - 8s - loss: 0.1044 - val_loss: 0.3290\n",
      "Epoch 14/30\n",
      " - 8s - loss: 0.0977 - val_loss: 0.3116\n",
      "Epoch 15/30\n",
      " - 8s - loss: 0.0971 - val_loss: 0.3136\n",
      "Epoch 16/30\n",
      " - 8s - loss: 0.0986 - val_loss: 0.3322\n",
      "Epoch 17/30\n",
      " - 8s - loss: 0.0909 - val_loss: 0.3325\n",
      "Epoch 18/30\n",
      " - 8s - loss: 0.0920 - val_loss: 0.3421\n",
      "Epoch 19/30\n",
      " - 8s - loss: 0.0864 - val_loss: 0.3594\n",
      "Epoch 20/30\n",
      " - 8s - loss: 0.0889 - val_loss: 0.3244\n",
      "Epoch 21/30\n",
      " - 8s - loss: 0.0884 - val_loss: 0.3379\n",
      "Epoch 22/30\n",
      " - 8s - loss: 0.0832 - val_loss: 0.3427\n",
      "Epoch 23/30\n",
      " - 8s - loss: 0.0833 - val_loss: 0.3334\n",
      "Epoch 24/30\n",
      " - 8s - loss: 0.0861 - val_loss: 0.3419\n",
      "Epoch 25/30\n",
      " - 8s - loss: 0.0860 - val_loss: 0.3172\n",
      "Epoch 26/30\n",
      " - 8s - loss: 0.0813 - val_loss: 0.3443\n",
      "Epoch 27/30\n",
      " - 8s - loss: 0.0810 - val_loss: 0.3383\n",
      "Epoch 28/30\n",
      " - 8s - loss: 0.0790 - val_loss: 0.3114\n",
      "Epoch 29/30\n",
      " - 8s - loss: 0.0767 - val_loss: 0.3422\n",
      "Epoch 30/30\n",
      " - 8s - loss: 0.0803 - val_loss: 0.3243\n"
     ]
    }
   ],
   "source": [
    "history=full_model.fit([img_1,img_2],y_train,epochs=30,verbose=2,validation_data=[[x_test[:, 0], x_test[:, 1]],y_test])"
   ]
  },
  {
   "cell_type": "code",
   "execution_count": 28,
   "metadata": {},
   "outputs": [],
   "source": [
    "lss = history.history['loss']\n",
    "vlss = history.history['val_loss']"
   ]
  },
  {
   "cell_type": "code",
   "execution_count": 29,
   "metadata": {},
   "outputs": [],
   "source": [
    "%matplotlib inline"
   ]
  },
  {
   "cell_type": "code",
   "execution_count": 30,
   "metadata": {},
   "outputs": [
    {
     "data": {
      "text/plain": [
       "<Figure size 432x288 with 0 Axes>"
      ]
     },
     "execution_count": 30,
     "metadata": {},
     "output_type": "execute_result"
    },
    {
     "data": {
      "image/png": "[encoded data removed]",
      "text/plain": [
       "<Figure size 432x288 with 1 Axes>"
      ]
     },
     "metadata": {
      "needs_background": "light"
     },
     "output_type": "display_data"
    },
    {
     "data": {
      "text/plain": [
       "<Figure size 432x288 with 0 Axes>"
      ]
     },
     "metadata": {},
     "output_type": "display_data"
    }
   ],
   "source": [
    "plt.plot(lss, 'b', label='Training loss')\n",
    "plt.plot(vlss, 'r', label='Training validation loss')\n",
    "plt.title('Training and validation loss')\n",
    "plt.legend(loc=0)\n",
    "plt.figure()"
   ]
  },
  {
   "cell_type": "code",
   "execution_count": 31,
   "metadata": {},
   "outputs": [],
   "source": [
    "pred = full_model.predict([x_test[:, 0], x_test[:, 1]])"
   ]
  },
  {
   "cell_type": "code",
   "execution_count": 32,
   "metadata": {},
   "outputs": [
    {
     "data": {
      "text/plain": [
       "0.515625"
      ]
     },
     "execution_count": 32,
     "metadata": {},
     "output_type": "execute_result"
    }
   ],
   "source": [
    "def compute_accuracy(predictions, labels):\n",
    "    return labels[predictions.ravel() < 0.2].mean()\n",
    "\n",
    "compute_accuracy(pred,y_test)"
   ]
  },
  {
   "cell_type": "code",
   "execution_count": 33,
   "metadata": {},
   "outputs": [],
   "source": [
    "prom = 0\n",
    "trues = []\n",
    "for i in range(len(pred)):\n",
    "    if y_test.ravel()[i]:\n",
    "        prom+=pred.ravel()[i]\n",
    "        trues.append(pred.ravel()[i])\n",
    "prom /= len(pred)\n",
    "trues.sort()"
   ]
  },
  {
   "cell_type": "code",
   "execution_count": 34,
   "metadata": {},
   "outputs": [],
   "source": [
    "promf = 0\n",
    "falses = []\n",
    "for i in range(len(pred)):\n",
    "    if y_test.ravel()[i] == 0:\n",
    "        promf+=pred.ravel()[i]\n",
    "        falses.append(pred.ravel()[i])\n",
    "promf /= len(pred)\n",
    "falses.sort()"
   ]
  },
  {
   "cell_type": "code",
   "execution_count": 35,
   "metadata": {},
   "outputs": [
    {
     "data": {
      "text/plain": [
       "<matplotlib.axes._subplots.AxesSubplot at 0x1b31a748d08>"
      ]
     },
     "execution_count": 35,
     "metadata": {},
     "output_type": "execute_result"
    },
    {
     "data": {
      "image/png": "[encoded data removed]",
      "text/plain": [
       "<Figure size 432x288 with 1 Axes>"
      ]
     },
     "metadata": {
      "needs_background": "light"
     },
     "output_type": "display_data"
    }
   ],
   "source": [
    "sns.boxplot(data=(trues,falses,prom,promf),orient=\"h\", palette=\"Set2\")"
   ]
  },
  {
   "cell_type": "code",
   "execution_count": 36,
   "metadata": {},
   "outputs": [
    {
     "data": {
      "text/plain": [
       "<matplotlib.axes._subplots.AxesSubplot at 0x1b31a9e1308>"
      ]
     },
     "execution_count": 36,
     "metadata": {},
     "output_type": "execute_result"
    },
    {
     "data": {
      "image/png": "[encoded data removed]",
      "text/plain": [
       "<Figure size 432x288 with 1 Axes>"
      ]
     },
     "metadata": {
      "needs_background": "light"
     },
     "output_type": "display_data"
    }
   ],
   "source": [
    "sns.distplot(trues, hist=False, rug=True)\n",
    "sns.distplot(falses, hist=False, rug=True)"
   ]
  },
  {
   "cell_type": "code",
   "execution_count": 37,
   "metadata": {},
   "outputs": [
    {
     "data": {
      "text/plain": [
       "0.515625"
      ]
     },
     "execution_count": 37,
     "metadata": {},
     "output_type": "execute_result"
    }
   ],
   "source": [
    "compute_accuracy(pred,y_test)"
   ]
  },
  {
   "cell_type": "code",
   "execution_count": 38,
   "metadata": {},
   "outputs": [
    {
     "data": {
      "text/plain": [
       "<matplotlib.axes._subplots.AxesSubplot at 0x1b31aac8308>"
      ]
     },
     "execution_count": 38,
     "metadata": {},
     "output_type": "execute_result"
    },
    {
     "data": {
      "image/png": "[encoded data removed]",
      "text/plain": [
       "<Figure size 432x288 with 2 Axes>"
      ]
     },
     "metadata": {
      "needs_background": "light"
     },
     "output_type": "display_data"
    }
   ],
   "source": [
    "threshold = .2\n",
    "cm = sk.metrics.confusion_matrix(y_test.ravel(), pred.ravel()<threshold)\n",
    "sns.heatmap(data=cm,annot=True,cmap='YlGnBu',center=25,annot_kws={'color':'r'})"
   ]
  },
  {
   "cell_type": "markdown",
   "metadata": {},
   "source": [
    "full_model.save_weights('Cat_N-O_Limit.ckpt')"
   ]
  },
  {
   "cell_type": "code",
   "execution_count": 39,
   "metadata": {},
   "outputs": [],
   "source": [
    "def plot_roc_curve(fpr, tpr):\n",
    "    plt.plot(fpr, tpr, color='orange', label='ROC')\n",
    "    plt.plot([0, 1], [0, 1], color='darkblue', linestyle='--')\n",
    "    plt.xlabel('False Positive Rate')\n",
    "    plt.ylabel('True Positive Rate')\n",
    "    plt.title('Receiver Operating Characteristic (ROC) Curve')\n",
    "    plt.legend()\n",
    "    plt.show()"
   ]
  },
  {
   "cell_type": "code",
   "execution_count": 40,
   "metadata": {},
   "outputs": [
    {
     "data": {
      "image/png": "[encoded data removed]",
      "text/plain": [
       "<Figure size 432x288 with 1 Axes>"
      ]
     },
     "metadata": {
      "needs_background": "light"
     },
     "output_type": "display_data"
    }
   ],
   "source": [
    "a,b,c=sk.metrics.roc_curve(y_test.ravel(),pred.ravel()<0.3)\n",
    "plot_roc_curve(a,b)"
   ]
  },
  {
   "cell_type": "code",
   "execution_count": null,
   "metadata": {},
   "outputs": [],
   "source": []
  }
 ],
 "metadata": {
  "kernelspec": {
   "display_name": "Python 3",
   "language": "python",
   "name": "python3"
  },
  "language_info": {
   "codemirror_mode": {
    "name": "ipython",
    "version": 3
   },
   "file_extension": ".py",
   "mimetype": "text/x-python",
   "name": "python",
   "nbconvert_exporter": "python",
   "pygments_lexer": "ipython3",
   "version": "3.7.4"
  }
 },
 "nbformat": 4,
 "nbformat_minor": 4
}
